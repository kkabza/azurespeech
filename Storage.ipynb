{
 "cells": [
  {
   "cell_type": "code",
   "execution_count": null,
   "metadata": {},
   "outputs": [],
   "source": [
    "pip install azure-cli"
   ]
  },
  {
   "cell_type": "code",
   "execution_count": null,
   "metadata": {},
   "outputs": [],
   "source": [
    "pip install -r requirements.txt"
   ]
  },
  {
   "cell_type": "code",
   "execution_count": null,
   "metadata": {},
   "outputs": [],
   "source": [
    "import os\n",
    "os.environ[\"AZURE_SUBSCRIPTION_ID\"] = \"YOUR SUBSCRIPTION ID\""
   ]
  },
  {
   "cell_type": "code",
   "execution_count": null,
   "metadata": {},
   "outputs": [],
   "source": [
    "from azure.identity import DefaultAzureCredential\n",
    "\n",
    "credential = DefaultAzureCredential(exclude_interactive_browser_credential=False)"
   ]
  },
  {
   "cell_type": "code",
   "execution_count": 10,
   "metadata": {},
   "outputs": [
    {
     "name": "stdout",
     "output_type": "stream",
     "text": [
      "Provisioned resource group Speech-Storage-rg\n",
      "Provisioned storage account pythonazurestorage67543\n",
      "Primary key for storage account: 5G15FxqyHGXsSM1wtr+0SkicNaRZhST/SqWmq5kiDiYJm2OlQ3wt+I2oi4mtMwtfilQPUqvrtPLI+AStui7vJg==\n",
      "Connection string: DefaultEndpointsProtocol=https;EndpointSuffix=core.windows.net;AccountName=pythonazurestorage67543;AccountKey=5G15FxqyHGXsSM1wtr+0SkicNaRZhST/SqWmq5kiDiYJm2OlQ3wt+I2oi4mtMwtfilQPUqvrtPLI+AStui7vJg==\n",
      "Provisioned blob container blob-container-01\n"
     ]
    }
   ],
   "source": [
    "import os, random\n",
    "\n",
    "# Import the needed management objects from the libraries. The azure.common library\n",
    "# is installed automatically with the other libraries.\n",
    "from azure.identity import AzureCliCredential\n",
    "from azure.mgmt.resource import ResourceManagementClient\n",
    "from azure.mgmt.storage import StorageManagementClient\n",
    "\n",
    "# Acquire a credential object using CLI-based authentication.\n",
    "#credential = DefaultAzureCredential(exclude_interactive_browser_credential=False)\n",
    "credential = AzureCliCredential()\n",
    "\n",
    "# Retrieve subscription ID from environment variable.\n",
    "subscription_id = os.environ[\"AZURE_SUBSCRIPTION_ID\"]\n",
    "\n",
    "# Obtain the management object for resources.\n",
    "resource_client = ResourceManagementClient(credential, subscription_id)\n",
    "\n",
    "# Constants we need in multiple places: the resource group name and the region\n",
    "# in which we provision resources. You can change these values however you want.\n",
    "RESOURCE_GROUP_NAME = \"Speech-Storage-rg\"\n",
    "LOCATION = \"eastus\"\n",
    "\n",
    "# Step 1: Provision the resource group.\n",
    "\n",
    "rg_result = resource_client.resource_groups.create_or_update(RESOURCE_GROUP_NAME,\n",
    "    { \"location\": LOCATION })\n",
    "\n",
    "print(f\"Provisioned resource group {rg_result.name}\")\n",
    "\n",
    "# For details on the previous code, see Example: Provision a resource group\n",
    "# at https://docs.microsoft.com/azure/developer/python/azure-sdk-example-resource-group\n",
    "\n",
    "\n",
    "# Step 2: Provision the storage account, starting with a management object.\n",
    "\n",
    "storage_client = StorageManagementClient(credential, subscription_id)\n",
    "\n",
    "# This example uses the CLI profile credentials because we assume the script\n",
    "# is being used to provision the resource in the same way the Azure CLI would be used.\n",
    "\n",
    "STORAGE_ACCOUNT_NAME = f\"pythonazurestorage{random.randint(1,100000):05}\"\n",
    "\n",
    "# You can replace the storage account here with any unique name. A random number is used\n",
    "# by default, but note that the name changes every time you run this script.\n",
    "# The name must be 3-24 lower case letters and numbers only.\n",
    "\n",
    "\n",
    "# Check if the account name is available. Storage account names must be unique across\n",
    "# Azure because they're used in URLs.\n",
    "availability_result = storage_client.storage_accounts.check_name_availability(\n",
    "    { \"name\": STORAGE_ACCOUNT_NAME }\n",
    ")\n",
    "\n",
    "if not availability_result.name_available:\n",
    "    print(f\"Storage name {STORAGE_ACCOUNT_NAME} is already in use. Try another name.\")\n",
    "    exit()\n",
    "\n",
    "# The name is available, so provision the account\n",
    "poller = storage_client.storage_accounts.begin_create(RESOURCE_GROUP_NAME, STORAGE_ACCOUNT_NAME,\n",
    "    {\n",
    "        \"location\" : LOCATION,\n",
    "        \"kind\": \"StorageV2\",\n",
    "        \"sku\": {\"name\": \"Standard_LRS\"}\n",
    "    }\n",
    ")\n",
    "\n",
    "# Long-running operations return a poller object; calling poller.result()\n",
    "# waits for completion.\n",
    "account_result = poller.result()\n",
    "print(f\"Provisioned storage account {account_result.name}\")\n",
    "\n",
    "\n",
    "# Step 3: Retrieve the account's primary access key and generate a connection string.\n",
    "keys = storage_client.storage_accounts.list_keys(RESOURCE_GROUP_NAME, STORAGE_ACCOUNT_NAME)\n",
    "\n",
    "print(f\"Primary key for storage account: {keys.keys[0].value}\")\n",
    "\n",
    "conn_string = f\"DefaultEndpointsProtocol=https;EndpointSuffix=core.windows.net;AccountName={STORAGE_ACCOUNT_NAME};AccountKey={keys.keys[0].value}\"\n",
    "\n",
    "print(f\"Connection string: {conn_string}\")\n",
    "\n",
    "# Step 4: Provision the blob container in the account (this call is synchronous)\n",
    "CONTAINER_NAME = \"blob-container-01\"\n",
    "container = storage_client.blob_containers.create(RESOURCE_GROUP_NAME, STORAGE_ACCOUNT_NAME, CONTAINER_NAME, {})\n",
    "\n",
    "# The fourth argument is a required BlobContainer object, but because we don't need any\n",
    "# special values there, so we just pass empty JSON.\n",
    "\n",
    "print(f\"Provisioned blob container {container.name}\")"
   ]
  }
 ],
 "metadata": {
  "kernelspec": {
   "display_name": "Python 3",
   "language": "python",
   "name": "python3"
  },
  "language_info": {
   "codemirror_mode": {
    "name": "ipython",
    "version": 3
   },
   "file_extension": ".py",
   "mimetype": "text/x-python",
   "name": "python",
   "nbconvert_exporter": "python",
   "pygments_lexer": "ipython3",
   "version": "3.11.1"
  },
  "orig_nbformat": 4
 },
 "nbformat": 4,
 "nbformat_minor": 2
}
